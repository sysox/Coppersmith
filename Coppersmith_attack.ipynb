{
 "cells": [
  {
   "metadata": {
    "ExecuteTime": {
     "end_time": "2024-05-15T09:34:59.277171Z",
     "start_time": "2024-05-15T09:34:59.191736Z"
    }
   },
   "cell_type": "code",
   "source": [
    "import math, sympy\n",
    "from fpylll import *\n",
    "\n",
    "import  random\n",
    "def rand_prime(bitsize):\n",
    "    return sympy.randprime(2**(bitsize-1), 2**(bitsize))                        \n",
    "def base_primes(num_primes):\n",
    "    primes = list(sympy.primerange(a=2, b=10 ** 5))\n",
    "    return primes[:num_primes]\n",
    "def int2bitstring(value, size = None):\n",
    "    bits = \"{:b}\".format(value)\n",
    "    if size:\n",
    "        bits = '0'*(size-len(bits)) + bits\n",
    "    return bits    \n",
    "def M_sizes(matrix):\n",
    "    res_matrix = IntegerMatrix(matrix)\n",
    "    nrows = matrix.nrows\n",
    "    ncols = matrix.ncols\n",
    "    for i in range(nrows):\n",
    "        for j in range(ncols):\n",
    "            res_matrix[i, j] = len(int2bitstring(matrix[i, j]))\n",
    "    return res_matrix\n",
    "def equations2reduction(nlin_eqs = 1, dim = 2):\n",
    "    L = IntegerMatrix(nlin_eqs+dim, dim)\n",
    "    for i in range(nlin_eqs):\n",
    "        for j in range(dim):\n",
    "            L[i, j] = random.randint(0, M)\n",
    "    for j in range(dim):\n",
    "        L[nlin_eqs+j, j] = M\n",
    "    LLL.reduction(L)\n",
    "    return M_sizes(L)"
   ],
   "id": "cb5de5e8f26e8b8c",
   "outputs": [],
   "execution_count": 188
  },
  {
   "metadata": {},
   "cell_type": "markdown",
   "source": "## Rows count vs reduction",
   "id": "13a2f381be712ce3"
  },
  {
   "metadata": {
    "ExecuteTime": {
     "end_time": "2024-05-15T09:35:00.503279Z",
     "start_time": "2024-05-15T09:35:00.419723Z"
    }
   },
   "cell_type": "code",
   "source": [
    "bit_size = 300\n",
    "M = 2**bit_size\n",
    "\n",
    "for nlin_eqs in [1,2,3]:\n",
    "    dim = nlin_eqs + 1\n",
    "    print(f\"num_of equations={nlin_eqs}, num_variables={dim}, \\nElement sizes:\")\n",
    "    print(equations2reduction(nlin_eqs = nlin_eqs, dim = dim))"
   ],
   "id": "4ded792af2b9b7a6",
   "outputs": [
    {
     "name": "stdout",
     "output_type": "stream",
     "text": [
      "num_of equations=1, num_variables=2, \n",
      "Element sizes:\n",
      "[   1   1 ]\n",
      "[ 151 150 ]\n",
      "[ 151 150 ]\n",
      "num_of equations=2, num_variables=3, \n",
      "Element sizes:\n",
      "[   1   1   1 ]\n",
      "[   1   1   1 ]\n",
      "[  99  99 100 ]\n",
      "[ 101  98  99 ]\n",
      "[  98 102 102 ]\n",
      "num_of equations=3, num_variables=4, \n",
      "Element sizes:\n",
      "[  1  1  1  1 ]\n",
      "[  1  1  1  1 ]\n",
      "[  1  1  1  1 ]\n",
      "[ 73 72 74 73 ]\n",
      "[ 76 69 74 73 ]\n",
      "[ 73 74 72 76 ]\n",
      "[ 73 78 74 73 ]\n"
     ]
    }
   ],
   "execution_count": 189
  },
  {
   "metadata": {},
   "cell_type": "markdown",
   "source": [
    "## Univariate Coppersmith (Howgram-Graham variant)\n",
    "How large $A$ must be to find $x$ assuming:\n",
    " $$(xM+A)(yM+B) = N = p.q$$\n",
    "\n"
   ],
   "id": "aa4a3802053dc19"
  },
  {
   "metadata": {
    "ExecuteTime": {
     "end_time": "2024-05-15T09:35:01.830216Z",
     "start_time": "2024-05-15T09:35:01.748518Z"
    }
   },
   "cell_type": "code",
   "source": [
    "bit_size = 10\n",
    "known_bits = 9\n",
    "p = rand_prime(bit_size)\n",
    "q = rand_prime(bit_size)\n",
    "N = p*q\n",
    "M = 2**(known_bits)\n",
    "X = 2**(bit_size-known_bits+1)\n",
    "A = p % M\n",
    "x_reference = ( p - A)  // M\n",
    "assert x_reference < X"
   ],
   "id": "8ce92baab0357f29",
   "outputs": [],
   "execution_count": 190
  },
  {
   "metadata": {
    "ExecuteTime": {
     "end_time": "2024-05-15T09:35:02.439608Z",
     "start_time": "2024-05-15T09:35:02.355708Z"
    }
   },
   "cell_type": "code",
   "source": [
    "from sympy import poly, degree, Poly\n",
    "from sympy.abc import x\n",
    "\n",
    "fx = poly(x + (A*pow(M, -1, N)) % N)\n",
    "assert fx.eval(x_reference) % p == 0 "
   ],
   "id": "abaf605acb3d1109",
   "outputs": [],
   "execution_count": 191
  },
  {
   "metadata": {
    "ExecuteTime": {
     "end_time": "2024-05-15T09:35:02.973124Z",
     "start_time": "2024-05-15T09:35:02.881511Z"
    }
   },
   "cell_type": "code",
   "source": [
    "# def construct_polynomials(fx, N, m):\n",
    "#     polynomials = []\n",
    "#     for i in range(m+1):\n",
    "#         for j in range(m+1):\n",
    "#             for k in range(m+1):\n",
    "#                 fi = (x**i)*(fx**k)*(N**j)\n",
    "#                 if (i+k <= m) and (m < j+k):\n",
    "#                     polynomials.append(fi)\n",
    "#     return polynomials \n",
    "\n",
    "def construct_polynomials(fx, N, m, additional):\n",
    "    polynomials = []\n",
    "    for i in range(m):\n",
    "        gi = (fx**i)*(N**(m-i))\n",
    "        polynomials.append(gi)\n",
    "    for j in range(additional):\n",
    "        gi = (fx**m)*x**j\n",
    "        polynomials.append(gi)\n",
    "    return polynomials \n",
    "\n",
    "def sympoly_to_list(polynomial, dim):\n",
    "    r = list(reversed(list(map(int, polynomial.as_list(m)))))\n",
    "    padding = [0]*(dim - len(r))\n",
    "    return r + padding\n",
    "\n",
    "def col_weights(M, X, add_weights = True):\n",
    "    n, m = M.nrows, M.ncols\n",
    "    for i in range(n):\n",
    "        for j in range(m):\n",
    "            if add_weights:\n",
    "                M[i, j] *= X**j\n",
    "            else:\n",
    "                M[i, j] //= X**j\n",
    "    return M              \n",
    "def matrix_from_polynomials(polynomials):\n",
    "    max_degree = max([degree(polynomial) for polynomial in polynomials]) + 1\n",
    "    matrix = [sympoly_to_list(polynomial, max_degree) for polynomial in polynomials]\n",
    "    L  = IntegerMatrix.from_matrix(matrix)\n",
    "    return L\n",
    "def polynomials_from_matrix(M):\n",
    "    return [Poly.from_list(reversed(list(row)), x) for row in M]\n",
    "\n",
    "m = 2\n",
    "basis_polynomials = construct_polynomials(fx=fx, N = N, m = m, additional=7)\n",
    "assert [polynomial.eval(x_reference) % p for polynomial in basis_polynomials] == [0]*len(basis_polynomials)   \n",
    "# polynomials = construct_polynomials(fx=fx, N = 10, m = m, additional=4)\n",
    "L  = matrix_from_polynomials(basis_polynomials)\n",
    "print(M_sizes(L))\n",
    "L_with_weights = col_weights(L, X, add_weights=True)"
   ],
   "id": "631e9fae5a047ca9",
   "outputs": [
    {
     "name": "stdout",
     "output_type": "stream",
     "text": [
      "[ 38  1  1  1  1  1  1  1 1 ]\n",
      "[ 38 19  1  1  1  1  1  1 1 ]\n",
      "[ 37 20  1  1  1  1  1  1 1 ]\n",
      "[  1 37 20  1  1  1  1  1 1 ]\n",
      "[  1  1 37 20  1  1  1  1 1 ]\n",
      "[  1  1  1 37 20  1  1  1 1 ]\n",
      "[  1  1  1  1 37 20  1  1 1 ]\n",
      "[  1  1  1  1  1 37 20  1 1 ]\n",
      "[  1  1  1  1  1  1 37 20 1 ]\n"
     ]
    }
   ],
   "execution_count": 192
  },
  {
   "metadata": {
    "ExecuteTime": {
     "end_time": "2024-05-15T09:35:03.824220Z",
     "start_time": "2024-05-15T09:35:03.737587Z"
    }
   },
   "cell_type": "code",
   "source": [
    "LLL.reduction(L_with_weights)\n",
    "L_removed_weights = col_weights(L_with_weights, X, add_weights=False)\n",
    "print(L)\n",
    "g_polynomials = polynomials_from_matrix(L_removed_weights)\n",
    "\n",
    "for polynomial in g_polynomials:\n",
    "    assert polynomial.eval(x_reference) % p == 0\n",
    "    if polynomial.eval(X) < p**m:\n",
    "        print(polynomial.eval(x_reference))"
   ],
   "id": "74fb213c80e5b4ad",
   "outputs": [
    {
     "name": "stdout",
     "output_type": "stream",
     "text": [
      "[    756  -753   36  -37  -4  1  1 0 0 ]\n",
      "[   -563   424   69   47  21  2  0 0 0 ]\n",
      "[   1371 -1185 -134  -69  18  0 -1 0 0 ]\n",
      "[  -1680  1638  166 -125   6 -5  0 0 0 ]\n",
      "[    -16     0   40   -8 -25 10 -1 0 0 ]\n",
      "[  -1572  2354 -770  -28  15 -1  2 0 0 ]\n",
      "[   -478   135  357   -4  -8 -3  0 1 0 ]\n",
      "[    371    70 -455   16  -2 -1  0 0 1 ]\n",
      "[ 595231 37063 2774  133  12 -4  0 0 0 ]\n",
      "0\n",
      "0\n",
      "0\n",
      "0\n",
      "0\n",
      "0\n",
      "0\n",
      "0\n"
     ]
    }
   ],
   "execution_count": 193
  }
 ],
 "metadata": {
  "kernelspec": {
   "display_name": "Python 3",
   "language": "python",
   "name": "python3"
  },
  "language_info": {
   "codemirror_mode": {
    "name": "ipython",
    "version": 2
   },
   "file_extension": ".py",
   "mimetype": "text/x-python",
   "name": "python",
   "nbconvert_exporter": "python",
   "pygments_lexer": "ipython2",
   "version": "2.7.6"
  }
 },
 "nbformat": 4,
 "nbformat_minor": 5
}
