{
 "cells": [
  {
   "metadata": {
    "ExecuteTime": {
     "end_time": "2024-05-15T09:34:59.277171Z",
     "start_time": "2024-05-15T09:34:59.191736Z"
    }
   },
   "cell_type": "code",
   "source": [
    "import math, sympy\n",
    "from fpylll import *\n",
    "\n",
    "import  random\n",
    "def rand_prime(bitsize):\n",
    "    return sympy.randprime(2**(bitsize-1), 2**(bitsize))                        \n",
    "def base_primes(num_primes):\n",
    "    primes = list(sympy.primerange(a=2, b=10 ** 5))\n",
    "    return primes[:num_primes]\n",
    "def int2bitstring(value, size = None):\n",
    "    bits = \"{:b}\".format(value)\n",
    "    if size:\n",
    "        bits = '0'*(size-len(bits)) + bits\n",
    "    return bits    \n",
    "def M_sizes(matrix):\n",
    "    res_matrix = IntegerMatrix(matrix)\n",
    "    nrows = matrix.nrows\n",
    "    ncols = matrix.ncols\n",
    "    for i in range(nrows):\n",
    "        for j in range(ncols):\n",
    "            res_matrix[i, j] = len(int2bitstring(matrix[i, j]))\n",
    "    return res_matrix\n",
    "def equations2reduction(nlin_eqs = 1, dim = 2):\n",
    "    L = IntegerMatrix(nlin_eqs+dim, dim)\n",
    "    for i in range(nlin_eqs):\n",
    "        for j in range(dim):\n",
    "            L[i, j] = random.randint(0, M)\n",
    "    for j in range(dim):\n",
    "        L[nlin_eqs+j, j] = M\n",
    "    LLL.reduction(L)\n",
    "    return M_sizes(L)"
   ],
   "id": "cb5de5e8f26e8b8c",
   "outputs": [],
   "execution_count": 188
  },
  {
   "metadata": {},
   "cell_type": "markdown",
   "source": "## Rows count vs reduction",
   "id": "13a2f381be712ce3"
  },
  {
   "metadata": {
    "ExecuteTime": {
     "end_time": "2024-05-15T09:35:00.503279Z",
     "start_time": "2024-05-15T09:35:00.419723Z"
    }
   },
   "cell_type": "code",
   "source": [
    "bit_size = 300\n",
    "M = 2**bit_size\n",
    "\n",
    "for nlin_eqs in [1,2,3]:\n",
    "    dim = nlin_eqs + 1\n",
    "    print(f\"num_of equations={nlin_eqs}, num_variables={dim}, \\nElement sizes:\")\n",
    "    print(equations2reduction(nlin_eqs = nlin_eqs, dim = dim))"
   ],
   "id": "4ded792af2b9b7a6",
   "outputs": [
    {
     "name": "stdout",
     "output_type": "stream",
     "text": [
      "num_of equations=1, num_variables=2, \n",
      "Element sizes:\n",
      "[   1   1 ]\n",
      "[ 151 150 ]\n",
      "[ 151 150 ]\n",
      "num_of equations=2, num_variables=3, \n",
      "Element sizes:\n",
      "[   1   1   1 ]\n",
      "[   1   1   1 ]\n",
      "[  99  99 100 ]\n",
      "[ 101  98  99 ]\n",
      "[  98 102 102 ]\n",
      "num_of equations=3, num_variables=4, \n",
      "Element sizes:\n",
      "[  1  1  1  1 ]\n",
      "[  1  1  1  1 ]\n",
      "[  1  1  1  1 ]\n",
      "[ 73 72 74 73 ]\n",
      "[ 76 69 74 73 ]\n",
      "[ 73 74 72 76 ]\n",
      "[ 73 78 74 73 ]\n"
     ]
    }
   ],
   "execution_count": 189
  },
  {
   "metadata": {},
   "cell_type": "markdown",
   "source": [
    "## Univariate Coppersmith (Howgram-Graham variant)\n",
    "How large $A$ must be to find $x$ assuming:\n",
    " $$(xM+A)(yM+B) = N = p.q$$\n",
    "\n"
   ],
   "id": "aa4a3802053dc19"
  },
  {
   "metadata": {
    "ExecuteTime": {
     "end_time": "2024-05-15T17:19:30.720473Z",
     "start_time": "2024-05-15T17:19:30.535155Z"
    }
   },
   "cell_type": "code",
   "source": [
    "bit_size = 100\n",
    "known_bits = 55\n",
    "p = rand_prime(bit_size)\n",
    "q = rand_prime(bit_size)\n",
    "N = p*q\n",
    "M = 2**(known_bits)\n",
    "X = 2**(bit_size-known_bits+1)\n",
    "A = p % M\n",
    "x_reference = ( p - A)  // M\n",
    "assert x_reference < X"
   ],
   "id": "8ce92baab0357f29",
   "outputs": [],
   "execution_count": 229
  },
  {
   "metadata": {},
   "cell_type": "markdown",
   "source": "$$(xM+A) \\equiv 0 \\pmod p$$",
   "id": "806a29aaca0a2477"
  },
  {
   "metadata": {
    "ExecuteTime": {
     "end_time": "2024-05-15T17:19:31.280571Z",
     "start_time": "2024-05-15T17:19:31.267780Z"
    }
   },
   "cell_type": "code",
   "source": [
    "from sympy import poly, degree, Poly\n",
    "from sympy.abc import x\n",
    "\n",
    "fx = poly(x + (A*pow(M, -1, N)) % N)\n",
    "assert fx.eval(x_reference) % p == 0 "
   ],
   "id": "abaf605acb3d1109",
   "outputs": [],
   "execution_count": 230
  },
  {
   "metadata": {},
   "cell_type": "markdown",
   "source": [
    "$$(xM+A) \\equiv 0 \\pmod p$$\n",
    "$$f(x) = x + c = x+A*M^{-1} \\pmod p$$\n",
    "both polynomials have root $x_0$ i.e. unknow part of $p.$"
   ],
   "id": "13d6aed436f834b3"
  },
  {
   "metadata": {},
   "cell_type": "markdown",
   "source": "",
   "id": "44fcee3b82f195c5"
  },
  {
   "metadata": {},
   "cell_type": "markdown",
   "source": [
    "## Base polynomials\n",
    "Construct base polynomials $f_k$ such that $f_k(x_0) \\equiv 0 \\pmod p^m:$\n",
    "$$f_i = N^{m-i}f^i(x)$$\n",
    "$$f_j = x^{i}f^m(x)$$\n"
   ],
   "id": "3fd9698ac307fc8f"
  },
  {
   "metadata": {},
   "cell_type": "markdown",
   "source": [
    "$$\n",
    "\\begin{array}{c|cccccc} \n",
    "f_k & 1 & x & x^2 & x^3 & \\cdots &  \\\\\n",
    "\\hline\n",
    "N^{m-0}f^0(x) & N^m \\\\\n",
    "N^{m-1}f^1(x) & *  & N^{m-1}\\\\\n",
    "\\vdots &  &   \\ddots \\\\\n",
    "N^{1}f^{m-1}(x) & * & * & N^1\\\\\n",
    "x^0f^{m}(x) & *  & *  & *   & 1\\\\\n",
    "xf^{m}(x) & * & *  & *   & *  & 1\\\\\n",
    "\\vdots & *  & *  & *  & *  & &\\ddots \\\\\n",
    "x^mf^{m}(x) & *  & *  & *   & *  & * & * & 1\\\\\n",
    "\\end{array}\n",
    "$$"
   ],
   "id": "430ee531291b358d"
  },
  {
   "metadata": {},
   "cell_type": "markdown",
   "source": [
    "$$\n",
    "\\begin{array}{c|cccccc} \n",
    "f_k & 1 & x & x^2 & x^3 & \\cdots &  \\\\\n",
    "\\hline\n",
    "N^{m-0}f^0(x) & N^m X\\\\\n",
    "N^{m-1}f^1(x) & *  & N^{m-1}X^2\\\\\n",
    "\\vdots &  &   \\ddots \\\\\n",
    "N^{1}f^{m-1}(x) & * & * & N^1X^{m-1}\\\\\n",
    "x^0f^{m}(x) & *  & *  & *   & X^{m}\\\\\n",
    "xf^{m}(x) & * & *  & *   & *  & X^{m+1}\\\\\n",
    "\\vdots & *  & *  & *  & *  & \\ddots \\\\\n",
    "x^mf^{m}(x) & *  & *  & *   & *  & * & * X^{2m}\\\\\n",
    "\\end{array}\n",
    "$$"
   ],
   "id": "db8b056de99db30b"
  },
  {
   "metadata": {
    "ExecuteTime": {
     "end_time": "2024-05-15T17:19:47.650314Z",
     "start_time": "2024-05-15T17:19:47.413195Z"
    }
   },
   "cell_type": "code",
   "source": [
    "def construct_polynomials(fx, N, m, additional):\n",
    "    polynomials = []\n",
    "    for i in range(m):\n",
    "        gi = (fx**i)*(N**(m-i))\n",
    "        polynomials.append(gi)\n",
    "    for j in range(additional):\n",
    "        gi = (fx**m)*x**j\n",
    "        polynomials.append(gi)\n",
    "    return polynomials \n",
    "\n",
    "def sympoly_to_list(polynomial, dim):\n",
    "    r = list(reversed(list(map(int, polynomial.as_list(m)))))\n",
    "    padding = [0]*(dim - len(r))\n",
    "    return r + padding\n",
    "\n",
    "def col_weights(M, X, add_weights = True):\n",
    "    M_copy = IntegerMatrix(M)\n",
    "    n, m = M_copy.nrows, M.ncols\n",
    "    for i in range(n):\n",
    "        for j in range(m):\n",
    "            if add_weights:\n",
    "                M_copy[i, j] *= X**j\n",
    "            else:\n",
    "                M_copy[i, j] //= X**j\n",
    "    return M_copy              \n",
    "def matrix_from_polynomials(polynomials):\n",
    "    max_degree = max([degree(polynomial) for polynomial in polynomials]) + 1\n",
    "    matrix = [sympoly_to_list(polynomial, max_degree) for polynomial in polynomials]\n",
    "    L  = IntegerMatrix.from_matrix(matrix)\n",
    "    return L\n",
    "def polynomials_from_matrix(M):\n",
    "    return [Poly.from_list(reversed(list(row)), x) for row in M]\n",
    "\n",
    "m = 10\n",
    "basis_polynomials = construct_polynomials(fx=fx, N = N, m = m, additional=m)\n",
    "assert [polynomial.eval(x_reference) % p for polynomial in basis_polynomials] == [0]*len(basis_polynomials)   \n",
    "L  = matrix_from_polynomials(basis_polynomials)\n",
    "print(M_sizes(L))\n",
    "L_with_weights = col_weights(L, X, add_weights=True)"
   ],
   "id": "631e9fae5a047ca9",
   "outputs": [
    {
     "name": "stdout",
     "output_type": "stream",
     "text": [
      "[ 1988    1    1    1    1    1    1    1    1    1    1    1    1    1   1   1   1   1   1 1 ]\n",
      "[ 1987 1790    1    1    1    1    1    1    1    1    1    1    1    1   1   1   1   1   1 1 ]\n",
      "[ 1985 1789 1591    1    1    1    1    1    1    1    1    1    1    1   1   1   1   1   1 1 ]\n",
      "[ 1983 1788 1591 1392    1    1    1    1    1    1    1    1    1    1   1   1   1   1   1 1 ]\n",
      "[ 1982 1787 1590 1392 1193    1    1    1    1    1    1    1    1    1   1   1   1   1   1 1 ]\n",
      "[ 1980 1785 1589 1392 1194  994    1    1    1    1    1    1    1    1   1   1   1   1   1 1 ]\n",
      "[ 1978 1784 1588 1391 1194  995  796    1    1    1    1    1    1    1   1   1   1   1   1 1 ]\n",
      "[ 1977 1782 1587 1390 1193  995  797  597    1    1    1    1    1    1   1   1   1   1   1 1 ]\n",
      "[ 1975 1781 1585 1389 1193  995  797  598  398    1    1    1    1    1   1   1   1   1   1 1 ]\n",
      "[ 1973 1779 1584 1388 1192  995  797  599  400  199    1    1    1    1   1   1   1   1   1 1 ]\n",
      "[ 1971 1778 1583 1387 1191  994  797  599  400  201    1    1    1    1   1   1   1   1   1 1 ]\n",
      "[    1 1971 1778 1583 1387 1191  994  797  599  400  201    1    1    1   1   1   1   1   1 1 ]\n",
      "[    1    1 1971 1778 1583 1387 1191  994  797  599  400  201    1    1   1   1   1   1   1 1 ]\n",
      "[    1    1    1 1971 1778 1583 1387 1191  994  797  599  400  201    1   1   1   1   1   1 1 ]\n",
      "[    1    1    1    1 1971 1778 1583 1387 1191  994  797  599  400  201   1   1   1   1   1 1 ]\n",
      "[    1    1    1    1    1 1971 1778 1583 1387 1191  994  797  599  400 201   1   1   1   1 1 ]\n",
      "[    1    1    1    1    1    1 1971 1778 1583 1387 1191  994  797  599 400 201   1   1   1 1 ]\n",
      "[    1    1    1    1    1    1    1 1971 1778 1583 1387 1191  994  797 599 400 201   1   1 1 ]\n",
      "[    1    1    1    1    1    1    1    1 1971 1778 1583 1387 1191  994 797 599 400 201   1 1 ]\n",
      "[    1    1    1    1    1    1    1    1    1 1971 1778 1583 1387 1191 994 797 599 400 201 1 ]\n"
     ]
    }
   ],
   "execution_count": 233
  },
  {
   "metadata": {
    "ExecuteTime": {
     "end_time": "2024-05-15T17:19:48.767263Z",
     "start_time": "2024-05-15T17:19:48.487362Z"
    }
   },
   "cell_type": "code",
   "source": [
    "LLL.reduction(L_with_weights)\n",
    "L_removed_weights = col_weights(L_with_weights, X, add_weights=False)\n",
    "g_polynomials = polynomials_from_matrix(L_removed_weights)\n",
    "\n",
    "for polynomial in g_polynomials:\n",
    "    assert polynomial.eval(x_reference) % p == 0\n",
    "    if polynomial.eval(X) < p**m:\n",
    "        print(polynomial.eval(x_reference))"
   ],
   "id": "74fb213c80e5b4ad",
   "outputs": [
    {
     "name": "stdout",
     "output_type": "stream",
     "text": [
      "0\n",
      "0\n",
      "0\n",
      "0\n",
      "0\n",
      "0\n",
      "0\n",
      "0\n",
      "0\n",
      "0\n",
      "0\n",
      "0\n",
      "0\n",
      "0\n",
      "0\n",
      "0\n",
      "0\n",
      "0\n",
      "0\n",
      "-262607899382050987631993942890459077226230957015097435536620038111977059225134646449366177234275121900906882457845920414249167499837093392760008306465814272726552092899968230912044243853185429924147370277356479062151279253813322069268538104313670526692035195036293447080664756569319112172309631372601\n"
     ]
    }
   ],
   "execution_count": 234
  }
 ],
 "metadata": {
  "kernelspec": {
   "display_name": "Python 3",
   "language": "python",
   "name": "python3"
  },
  "language_info": {
   "codemirror_mode": {
    "name": "ipython",
    "version": 2
   },
   "file_extension": ".py",
   "mimetype": "text/x-python",
   "name": "python",
   "nbconvert_exporter": "python",
   "pygments_lexer": "ipython2",
   "version": "2.7.6"
  }
 },
 "nbformat": 4,
 "nbformat_minor": 5
}
