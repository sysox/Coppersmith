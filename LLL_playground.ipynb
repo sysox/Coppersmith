{
 "cells": [
  {
   "metadata": {},
   "cell_type": "markdown",
   "source": [
    "## Factorize  \n",
    "Assume $N = p.q$ and you know 2/3 least significant bits of $q$.  <br /> \n",
    "**Goal**: Find $p,q$. "
   ],
   "id": "fb07d0b78c19bd26"
  },
  {
   "metadata": {
    "ExecuteTime": {
     "end_time": "2024-05-15T08:49:34.783282Z",
     "start_time": "2024-05-15T08:49:34.497956Z"
    }
   },
   "cell_type": "code",
   "source": [
    "import math\n",
    "from fpylll import *\n",
    "import sympy\n",
    "import  random\n",
    "def rand_prime(bitsize):\n",
    "    return sympy.randprime(2**(bitsize-1), 2**(bitsize))\n",
    "                           \n",
    "def base_primes(num_primes):\n",
    "    primes = list(sympy.primerange(a=2, b=10 ** 5))\n",
    "    return primes[:num_primes]\n",
    "\n",
    "def int2bitstring(value, size = None):\n",
    "    bits = \"{:b}\".format(value)\n",
    "    if size:\n",
    "        bits = '0'*(size-len(bits)) + bits\n",
    "    return bits    \n",
    "def M_sizes(matrix):\n",
    "    res_matrix = IntegerMatrix(matrix)\n",
    "    nrows = matrix.nrows\n",
    "    ncols = matrix.ncols\n",
    "    for i in range(nrows):\n",
    "        for j in range(ncols):\n",
    "            res_matrix[i, j] = len(int2bitstring(matrix[i, j]))\n",
    "    return res_matrix\n",
    "        "
   ],
   "id": "initial_id",
   "outputs": [],
   "execution_count": 1
  },
  {
   "metadata": {
    "ExecuteTime": {
     "end_time": "2024-05-15T08:49:37.503841Z",
     "start_time": "2024-05-15T08:49:37.430693Z"
    }
   },
   "cell_type": "code",
   "source": [
    "bit_size = 60\n",
    "p = rand_prime(bit_size)\n",
    "q = rand_prime(bit_size)\n",
    "N = p*q\n",
    "M = 2**((bit_size*2)//3+2)\n",
    "q_known = q % M  # equivalent to p & ((1 << 30)- 1)\n",
    "\n",
    "print(f\"p=  {int2bitstring(p)}\")\n",
    "print(f\"q=  {int2bitstring(q)}\")\n",
    "print(f\"q_known_part= {int2bitstring(q_known, 20)}\")"
   ],
   "id": "e2db7ee4402a65ed",
   "outputs": [
    {
     "name": "stdout",
     "output_type": "stream",
     "text": [
      "p=  111101010000101000010010111011100000100010100000111011110001\n",
      "q=  101011110111000010110001100100111000011101001010100000111101\n",
      "q_known_part= 110001100100111000011101001010100000111101\n"
     ]
    }
   ],
   "execution_count": 2
  },
  {
   "metadata": {},
   "cell_type": "markdown",
   "source": [
    "$$\n",
    "\\begin{align}\n",
    "(xM+A)(yM+B) &= N\\\\\n",
    "xyM^2 + (Ay+xB)M + AB &= N\\\\\n",
    "Ay+xB &\\equiv C \\pmod M\n",
    "\\end{align}\n",
    "$$\n",
    "\\begin{align}\n",
    "k(Ay+xB) &\\equiv kC &\\pmod M  \\\\\n",
    "y(kA)+x(kB) &\\equiv kC &\\pmod M\\\\\n",
    "y(a)+x(b) &\\equiv c &\\pmod M\n",
    "\\end{align}\n",
    "\n",
    "$$\n",
    "L=\\left(\\begin{array}{ccc} \n",
    "A & B \\\\\n",
    "M & 0\\\\\n",
    "0 & M \\\\\n",
    "\\end{array}\\right)\n",
    "\\rightarrow LLL \\rightarrow\n",
    "L_{red}\\left(\\begin{array}{ccc} \n",
    "a & b \\\\\n",
    "* & *\\\\\n",
    "* & * \\\\\n",
    "\\end{array}\\right)\\\\\n",
    "\n",
    "$$ "
   ],
   "id": "ad76ef6de222112e"
  },
  {
   "metadata": {
    "ExecuteTime": {
     "end_time": "2024-05-15T08:49:39.469645Z",
     "start_time": "2024-05-15T08:49:39.399761Z"
    }
   },
   "cell_type": "code",
   "source": [
    "A = p % M\n",
    "B = q % M\n",
    "x, y = p // M, q // M\n",
    "C = ((N - A*B) // M)  % M\n",
    "p_known = (N * pow(q_known, -1, M)) % M\n",
    "assert p_known == A\n",
    "assert q_known == B"
   ],
   "id": "eb2537164938107d",
   "outputs": [],
   "execution_count": 3
  },
  {
   "metadata": {
    "ExecuteTime": {
     "end_time": "2024-05-15T08:49:40.280502Z",
     "start_time": "2024-05-15T08:49:40.206160Z"
    }
   },
   "cell_type": "code",
   "source": [
    "print(f\"p={int2bitstring(p)}\")\n",
    "print(f\"A={int2bitstring(A)}, A={A}\")\n",
    "print(f\"q={int2bitstring(q)}\")\n",
    "print(f\"B={int2bitstring(B)}, B={B}\")\n",
    "\n",
    "L = IntegerMatrix(3, 2)\n",
    "L[0, 0], L[0,1] = A, B\n",
    "L[1, 0] = M\n",
    "L[2, 1] = M\n",
    "print(f\"\\nL_before=\\n{L}\")\n",
    "LLL.reduction(L)\n",
    "print(f\"\\nL_after=\\n{L}\")"
   ],
   "id": "8153d99c647c36d",
   "outputs": [
    {
     "name": "stdout",
     "output_type": "stream",
     "text": [
      "p=111101010000101000010010111011100000100010100000111011110001\n",
      "A=10010111011100000100010100000111011110001, A=1300847267569\n",
      "q=101011110111000010110001100100111000011101001010100000111101\n",
      "B=110001100100111000011101001010100000111101, B=3406856235069\n",
      "\n",
      "L_before=\n",
      "[ 1300847267569 3406856235069 ]\n",
      "[ 4398046511104             0 ]\n",
      "[             0 4398046511104 ]\n",
      "\n",
      "L_after=\n",
      "[       0        0 ]\n",
      "[  -43779 -2064679 ]\n",
      "[ 2112982  -808994 ]\n"
     ]
    }
   ],
   "execution_count": 4
  },
  {
   "metadata": {},
   "cell_type": "markdown",
   "source": [
    "## Diophantine equation\n",
    "\n",
    "Now we transformed modular equation into diophantine equation:  \n",
    "\\begin{align}\n",
    "ay+bx &\\equiv c \\pmod M\\\\\n",
    "ay+bx &= c\n",
    "\\end{align}\n",
    "Annoying part, just technique. \n",
    "\n",
    " - Which non-zero row $(a, b)$ of $L_{red}$ should be taken? \n",
    " - Can we do something if equality does not hold exactly? What if for small $d$ we have: $$ay + xb - c = dM.$$\n",
    " - How to find x, y? What if $gcd(a, b) \\neq 1.$ "
   ],
   "id": "a33cdf6a6de87976"
  }
 ],
 "metadata": {
  "kernelspec": {
   "display_name": "Python 3",
   "language": "python",
   "name": "python3"
  },
  "language_info": {
   "codemirror_mode": {
    "name": "ipython",
    "version": 2
   },
   "file_extension": ".py",
   "mimetype": "text/x-python",
   "name": "python",
   "nbconvert_exporter": "python",
   "pygments_lexer": "ipython2",
   "version": "2.7.6"
  }
 },
 "nbformat": 4,
 "nbformat_minor": 5
}
