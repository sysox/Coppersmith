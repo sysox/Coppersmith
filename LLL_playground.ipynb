{
 "cells": [
  {
   "cell_type": "markdown",
   "id": "fb07d0b78c19bd26",
   "metadata": {},
   "source": [
    "## Factorize  \n",
    "Assume $N = p.q$ and you know 2/3 least significant bits of $q$.  <br /> \n",
    "**Goal**: Find $p,q$. "
   ]
  },
  {
   "cell_type": "code",
   "execution_count": 6,
   "id": "initial_id",
   "metadata": {
    "ExecuteTime": {
     "end_time": "2024-05-15T08:49:34.783282Z",
     "start_time": "2024-05-15T08:49:34.497956Z"
    }
   },
   "outputs": [],
   "source": [
    "import math\n",
    "from fpylll import *\n",
    "import sympy\n",
    "import  random\n",
    "def rand_prime(bitsize):\n",
    "    return sympy.randprime(2**(bitsize-1), 2**(bitsize))\n",
    "                           \n",
    "def base_primes(num_primes):\n",
    "    primes = list(sympy.primerange(a=2, b=10 ** 5))\n",
    "    return primes[:num_primes]\n",
    "\n",
    "def int2bitstring(value, size = None):\n",
    "    bits = \"{:b}\".format(value)\n",
    "    if size:\n",
    "        bits = '0'*(size-len(bits)) + bits\n",
    "    return bits    \n",
    "def M_sizes(matrix):\n",
    "    res_matrix = IntegerMatrix(matrix)\n",
    "    nrows = matrix.nrows\n",
    "    ncols = matrix.ncols\n",
    "    for i in range(nrows):\n",
    "        for j in range(ncols):\n",
    "            res_matrix[i, j] = len(int2bitstring(matrix[i, j]))\n",
    "    return res_matrix\n",
    "        "
   ]
  },
  {
   "cell_type": "code",
   "execution_count": 7,
   "id": "e2db7ee4402a65ed",
   "metadata": {
    "ExecuteTime": {
     "end_time": "2024-05-15T08:49:37.503841Z",
     "start_time": "2024-05-15T08:49:37.430693Z"
    }
   },
   "outputs": [
    {
     "name": "stdout",
     "output_type": "stream",
     "text": [
      "p=  100001010001000010111110001001010011001000110100100010101101\n",
      "q=  101001100011101001101000100000100011111001011000001111000011\n",
      "q_known_part= 101000100000100011111001011000001111000011\n"
     ]
    }
   ],
   "source": [
    "bit_size = 60\n",
    "p = rand_prime(bit_size)\n",
    "q = rand_prime(bit_size)\n",
    "N = p*q\n",
    "M = 2**((bit_size*2)//3+2)\n",
    "q_known = q % M  # equivalent to p & ((1 << 30)- 1)\n",
    "\n",
    "print(f\"p=  {int2bitstring(p)}\")\n",
    "print(f\"q=  {int2bitstring(q)}\")\n",
    "print(f\"q_known_part= {int2bitstring(q_known, 20)}\")"
   ]
  },
  {
   "cell_type": "markdown",
   "id": "ad76ef6de222112e",
   "metadata": {},
   "source": [
    "$$\n",
    "\\begin{align}\n",
    "(xM+A)(yM+B) &= N\\\\\n",
    "xyM^2 + (Ay+xB)M + AB &= N\\\\\n",
    "Ay+xB &\\equiv C \\pmod M\n",
    "\\end{align}\n",
    "$$\n",
    "\\begin{align}\n",
    "k(Ay+xB) &\\equiv kC &\\pmod M  \\\\\n",
    "y(kA)+x(kB) &\\equiv kC &\\pmod M\\\\\n",
    "y(a)+x(b) &\\equiv c &\\pmod M\n",
    "\\end{align}\n",
    "\n",
    "$$\n",
    "L=\\left(\\begin{array}{ccc} \n",
    "A & B \\\\\n",
    "M & 0\\\\\n",
    "0 & M \\\\\n",
    "\\end{array}\\right)\n",
    "\\rightarrow LLL \\rightarrow\n",
    "L_{red}\\left(\\begin{array}{ccc} \n",
    "a & b \\\\\n",
    "* & *\\\\\n",
    "* & * \\\\\n",
    "\\end{array}\\right)\\\\\n",
    "$$ "
   ]
  },
  {
   "cell_type": "code",
   "execution_count": 8,
   "id": "eb2537164938107d",
   "metadata": {
    "ExecuteTime": {
     "end_time": "2024-05-15T08:49:39.469645Z",
     "start_time": "2024-05-15T08:49:39.399761Z"
    }
   },
   "outputs": [],
   "source": [
    "A = p % M\n",
    "B = q % M\n",
    "x, y = p // M, q // M\n",
    "C = ((N - A*B) // M)  % M\n",
    "p_known = (N * pow(q_known, -1, M)) % M\n",
    "assert p_known == A\n",
    "assert q_known == B"
   ]
  },
  {
   "cell_type": "code",
   "execution_count": 9,
   "id": "8153d99c647c36d",
   "metadata": {
    "ExecuteTime": {
     "end_time": "2024-05-15T08:49:40.280502Z",
     "start_time": "2024-05-15T08:49:40.206160Z"
    }
   },
   "outputs": [
    {
     "name": "stdout",
     "output_type": "stream",
     "text": [
      "p=100001010001000010111110001001010011001000110100100010101101\n",
      "A=111110001001010011001000110100100010101101, A=4270592313517\n",
      "q=101001100011101001101000100000100011111001011000001111000011\n",
      "B=101000100000100011111001011000001111000011, B=2783741051843\n",
      "\n",
      "L_before=\n",
      "[ 4270592313517 2783741051843 ]\n",
      "[ 4398046511104             0 ]\n",
      "[             0 4398046511104 ]\n",
      "\n",
      "L_after=\n",
      "[       0       0 ]\n",
      "[ 2157853  -68525 ]\n",
      "[  792463 2012993 ]\n"
     ]
    }
   ],
   "source": [
    "print(f\"p={int2bitstring(p)}\")\n",
    "print(f\"A={int2bitstring(A)}, A={A}\")\n",
    "print(f\"q={int2bitstring(q)}\")\n",
    "print(f\"B={int2bitstring(B)}, B={B}\")\n",
    "\n",
    "L = IntegerMatrix(3, 2)\n",
    "L[0, 0], L[0,1] = A, B\n",
    "L[1, 0] = M\n",
    "L[2, 1] = M\n",
    "print(f\"\\nL_before=\\n{L}\")\n",
    "LLL.reduction(L)\n",
    "print(f\"\\nL_after=\\n{L}\")"
   ]
  },
  {
   "cell_type": "markdown",
   "id": "a33cdf6a6de87976",
   "metadata": {},
   "source": [
    "## Diophantine equation\n",
    "\n",
    "Now we transformed modular equation into diophantine equation:  \n",
    "\\begin{align}\n",
    "ay+bx &\\equiv c \\pmod M\\\\\n",
    "ay+bx &= c\n",
    "\\end{align}\n",
    "Annoying part, just technique. \n",
    "\n",
    " - Which non-zero row $(a, b)$ of $L_{red}$ should be taken? \n",
    " - Can we do something if equality does not hold exactly? What if for small $d$ we have: $$ay + xb - c = dM.$$\n",
    " - How to find x, y? What if $gcd(a, b) \\neq 1.$ "
   ]
  },
  {
   "cell_type": "code",
   "execution_count": null,
   "id": "1fe231fa",
   "metadata": {},
   "outputs": [],
   "source": []
  }
 ],
 "metadata": {
  "kernelspec": {
   "display_name": "Python 3 (ipykernel)",
   "language": "python",
   "name": "python3"
  },
  "language_info": {
   "codemirror_mode": {
    "name": "ipython",
    "version": 3
   },
   "file_extension": ".py",
   "mimetype": "text/x-python",
   "name": "python",
   "nbconvert_exporter": "python",
   "pygments_lexer": "ipython3",
   "version": "3.10.12"
  }
 },
 "nbformat": 4,
 "nbformat_minor": 5
}
